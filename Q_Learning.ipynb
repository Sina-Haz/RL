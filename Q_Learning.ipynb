{
 "cells": [
  {
   "cell_type": "markdown",
   "id": "e16aa796-8007-4908-b99c-4a5f3c53f13d",
   "metadata": {},
   "source": [
    "### Unit 2 Assignment\n",
    "Implement Q learning from scratch to train agents for environments:\n",
    "1. Frozen-Lake-v1 (non-slippery and slippery version) ☃️ : where our agent will need to go from the starting state (S) to the goal state (G) by walking only on frozen tiles (F) and avoiding holes (H).\n",
    "2. An autonomous taxi 🚖 will need to learn to navigate a city to transport its passengers from point A to point B.\n",
    "\n",
    "For certification, Taxi model needs to get a value of >= 4.5"
   ]
  },
  {
   "cell_type": "code",
   "execution_count": null,
   "id": "dda68852-0655-4209-899d-becf13bb2953",
   "metadata": {},
   "outputs": [],
   "source": []
  }
 ],
 "metadata": {
  "kernelspec": {
   "display_name": "Python 3 (ipykernel)",
   "language": "python",
   "name": "python3"
  },
  "language_info": {
   "codemirror_mode": {
    "name": "ipython",
    "version": 3
   },
   "file_extension": ".py",
   "mimetype": "text/x-python",
   "name": "python",
   "nbconvert_exporter": "python",
   "pygments_lexer": "ipython3",
   "version": "3.9.19"
  }
 },
 "nbformat": 4,
 "nbformat_minor": 5
}
